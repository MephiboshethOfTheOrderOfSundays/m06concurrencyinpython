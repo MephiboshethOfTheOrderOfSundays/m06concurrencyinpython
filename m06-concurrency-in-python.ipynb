{
 "cells": [
  {
   "cell_type": "markdown",
   "id": "ad0d8429",
   "metadata": {},
   "source": [
    "# 13.1"
   ]
  },
  {
   "cell_type": "code",
   "execution_count": null,
   "id": "52200715",
   "metadata": {},
   "outputs": [],
   "source": [
    "from datetime import datetime\n",
    "from datetime import date\n",
    "now = datetime.now()\n",
    "todays_date = date(now.year, now.month, now.day)\n",
    "fout = open('today.txt', 'wt')\n",
    "fout.write(todays_date.isoformat())\n",
    "fout.close()"
   ]
  },
  {
   "cell_type": "markdown",
   "id": "ad9be1d4",
   "metadata": {},
   "source": [
    "# 13.2"
   ]
  },
  {
   "cell_type": "code",
   "execution_count": null,
   "id": "fda0f232",
   "metadata": {},
   "outputs": [],
   "source": [
    "fin = open('today.txt', 'rt')\n",
    "today_string = fin.read()\n",
    "fin.close()"
   ]
  },
  {
   "cell_type": "markdown",
   "id": "740111c4",
   "metadata": {},
   "source": [
    "# 13.3"
   ]
  },
  {
   "cell_type": "code",
   "execution_count": null,
   "id": "635142ad",
   "metadata": {},
   "outputs": [],
   "source": [
    "import time\n",
    "fmt = \"%Y-%m-%d\"\n",
    "time.strptime(today_string, fmt)"
   ]
  },
  {
   "cell_type": "markdown",
   "id": "070a729b",
   "metadata": {},
   "source": [
    "# 15.1"
   ]
  },
  {
   "cell_type": "code",
   "execution_count": null,
   "id": "b423f39d",
   "metadata": {},
   "outputs": [],
   "source": [
    "import multiprocessing\n",
    "import time\n",
    "from random import random\n",
    "def process_actions():\n",
    "    fmt = \"%I:%M:%S%p\"\n",
    "    t = time.localtime()\n",
    "    print(time.strftime(fmt, t))\n",
    "count = 0\n",
    "while count < 3:\n",
    "    secs = random()\n",
    "    p = multiprocessing.Process(target=process_actions())\n",
    "    p.start()\n",
    "    time.sleep(secs)\n",
    "    count += 1"
   ]
  }
 ],
 "metadata": {
  "kernelspec": {
   "display_name": "Python 3 (ipykernel)",
   "language": "python",
   "name": "python3"
  },
  "language_info": {
   "codemirror_mode": {
    "name": "ipython",
    "version": 3
   },
   "file_extension": ".py",
   "mimetype": "text/x-python",
   "name": "python",
   "nbconvert_exporter": "python",
   "pygments_lexer": "ipython3",
   "version": "3.10.9"
  }
 },
 "nbformat": 4,
 "nbformat_minor": 5
}
